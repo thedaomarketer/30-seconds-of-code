{
  "nbformat": 4,
  "nbformat_minor": 0,
  "metadata": {
    "colab": {
      "provenance": [],
      "toc_visible": true,
      "authorship_tag": "ABX9TyM50QZZQpKJ+rtTvwMl3JlU",
      "include_colab_link": true
    },
    "kernelspec": {
      "name": "python3",
      "display_name": "Python 3"
    },
    "language_info": {
      "name": "python"
    }
  },
  "cells": [
    {
      "cell_type": "markdown",
      "metadata": {
        "id": "view-in-github",
        "colab_type": "text"
      },
      "source": [
        "<a href=\"https://colab.research.google.com/github/thedaomarketer/30-seconds-of-code/blob/master/Budget_App.ipynb\" target=\"_parent\"><img src=\"https://colab.research.google.com/assets/colab-badge.svg\" alt=\"Open In Colab\"/></a>"
      ]
    },
    {
      "cell_type": "code",
      "execution_count": null,
      "metadata": {
        "colab": {
          "base_uri": "https://localhost:8080/"
        },
        "id": "NY1FlqR0pIIV",
        "outputId": "fbd20277-6cc6-4d8f-a8cd-f217beb66776"
      },
      "outputs": [
        {
          "name": "stdout",
          "output_type": "stream",
          "text": [
            "What do you want to do? (add income, add expense, print budget, or quit): add income\n",
            "Enter the amount: 50000\n"
          ]
        }
      ],
      "source": [
        "# prompt: A budgeting application\n",
        "\n",
        "# Create a budget dictionary to store income and expenses\n",
        "budget = {\n",
        "    \"income\": 0,\n",
        "    \"expenses\": 0\n",
        "}\n",
        "\n",
        "# Function to add income\n",
        "def add_income(amount):\n",
        "    budget[\"income\"] += amount\n",
        "\n",
        "# Function to add expenses\n",
        "def add_expense(amount):\n",
        "    budget[\"expenses\"] += amount\n",
        "\n",
        "# Function to calculate the budget balance\n",
        "def get_balance():\n",
        "    return budget[\"income\"] - budget[\"expenses\"]\n",
        "\n",
        "# Function to print the budget\n",
        "def print_budget():\n",
        "    print(\"Income:\", budget[\"income\"])\n",
        "    print(\"Expenses:\", budget[\"expenses\"])\n",
        "    print(\"Balance:\", get_balance())\n",
        "\n",
        "# Main program\n",
        "while True:\n",
        "    # Get user input\n",
        "    action = input(\"What do you want to do? (add income, add expense, print budget, or quit): \")\n",
        "\n",
        "    # Add income\n",
        "    if action == \"add income\":\n",
        "        amount = float(input(\"Enter the amount: \"))\n",
        "        add_income(amount)\n",
        "\n",
        "    # Add expense\n",
        "    elif action == \"add expense\":\n",
        "        amount = float(input(\"Enter the amount: \"))\n",
        "        add_expense(amount)\n",
        "\n",
        "    # Print budget\n",
        "    elif action == \"print budget\":\n",
        "        print_budget()\n",
        "\n",
        "    # Quit\n",
        "    elif action == \"quit\":\n",
        "        break\n",
        "\n",
        "    # Invalid input\n",
        "    else:\n",
        "        print(\"Invalid input. Please try again.\")\n"
      ]
    }
  ]
}